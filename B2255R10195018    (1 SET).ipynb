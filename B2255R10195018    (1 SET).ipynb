{
 "cells": [
  {
   "cell_type": "code",
   "execution_count": 15,
   "id": "57009dfa",
   "metadata": {},
   "outputs": [
    {
     "name": "stdout",
     "output_type": "stream",
     "text": [
      "enter the number a=3\n",
      "enter the number b=4\n",
      "sum= 7\n",
      "sub= -1\n",
      "mult= 12\n",
      "div= 0.75\n",
      "rem= 3\n"
     ]
    }
   ],
   "source": [
    "a=int(input(\"enter the number a=\"))\n",
    "b=int(input(\"enter the number b=\"))\n",
    "c=a+b\n",
    "print(\"sum=\",c)\n",
    "c=a-b\n",
    "print(\"sub=\",c)\n",
    "c=a*b\n",
    "print(\"mult=\",c)\n",
    "c=a/b\n",
    "print(\"div=\",c)\n",
    "c=a%b\n",
    "print(\"rem=\",c)"
   ]
  },
  {
   "cell_type": "code",
   "execution_count": null,
   "id": "21d7ddb5",
   "metadata": {},
   "outputs": [],
   "source": []
  },
  {
   "cell_type": "markdown",
   "id": "760d1bd5",
   "metadata": {},
   "source": [
    "# 2.Write a program to check whether a given character is upper case, lower case, number or special symbol"
   ]
  },
  {
   "cell_type": "code",
   "execution_count": 10,
   "id": "c2c75201",
   "metadata": {},
   "outputs": [
    {
     "name": "stdout",
     "output_type": "stream",
     "text": [
      "enter the charater(\n",
      "it is a special symbol\n"
     ]
    }
   ],
   "source": [
    "a=(input(\"enter the charater\"))\n",
    "if(a>=\"A\" and a<=\"Z\"):\n",
    "    print(\"it is upper case\")\n",
    "elif(a>=\"a\" and a<=\"z\"):\n",
    "    print(\"it is lower case\")\n",
    "elif(a>=\"0\" and a<=\"9\"):\n",
    "    print(\"it is a number\")\n",
    "else:\n",
    "    print(\"it is a special symbol\")"
   ]
  },
  {
   "cell_type": "markdown",
   "id": "6ff7fe97",
   "metadata": {},
   "source": [
    "# 3. Write a program to find wheather a given number is either odd or even"
   ]
  },
  {
   "cell_type": "code",
   "execution_count": 11,
   "id": "0b708484",
   "metadata": {},
   "outputs": [
    {
     "name": "stdout",
     "output_type": "stream",
     "text": [
      "enter the number4\n",
      "it is a even number\n"
     ]
    }
   ],
   "source": [
    "a=int(input(\"enter the number\"))\n",
    "if(a%2==0):\n",
    "    print(\"it is a even number\")\n",
    "else:\n",
    "    print(\"it is a odd number\")"
   ]
  },
  {
   "cell_type": "markdown",
   "id": "62404f9d",
   "metadata": {},
   "source": [
    "# 4. Write a program to find wheather a given number is positive or neagative"
   ]
  },
  {
   "cell_type": "code",
   "execution_count": 12,
   "id": "7a523492",
   "metadata": {},
   "outputs": [
    {
     "name": "stdout",
     "output_type": "stream",
     "text": [
      "enter the number5\n",
      "it is positive number\n"
     ]
    }
   ],
   "source": [
    "a=int(input(\"enter the number\"))\n",
    "if(a>0):\n",
    "    print(\"it is positive number\")\n",
    "else:\n",
    "    print(\"it is neagative number\")"
   ]
  },
  {
   "cell_type": "markdown",
   "id": "255d1c17",
   "metadata": {},
   "source": [
    "# 5. Write a python program to input length and width of rectangle and find out area of rectangle "
   ]
  },
  {
   "cell_type": "code",
   "execution_count": 14,
   "id": "989979ae",
   "metadata": {},
   "outputs": [
    {
     "name": "stdout",
     "output_type": "stream",
     "text": [
      "enter the length3\n",
      "enter the width4\n",
      "area of rectangle= 12\n"
     ]
    }
   ],
   "source": [
    "length=int(input(\"enter the length\"))\n",
    "width=int(input(\"enter the width\"))\n",
    "area=length*width\n",
    "print(\"area of rectangle=\",area)"
   ]
  },
  {
   "cell_type": "markdown",
   "id": "9ba85edf",
   "metadata": {},
   "source": [
    "# 6.Write a python program to input radius of a circle from user and find diameter , circumference and area of the circle."
   ]
  },
  {
   "cell_type": "code",
   "execution_count": 17,
   "id": "97c5c7a9",
   "metadata": {},
   "outputs": [
    {
     "name": "stdout",
     "output_type": "stream",
     "text": [
      "enter the radius4\n",
      "diameter of circle= 16\n",
      "circumference of circle= 25.12\n",
      "area of circle= 50.24\n"
     ]
    }
   ],
   "source": [
    "radius=int(input(\"enter the radius\"))\n",
    "diameter=radius*radius\n",
    "print(\"diameter of circle=\",diameter)\n",
    "c=2*3.14*radius\n",
    "print(\"circumference of circle=\",c)\n",
    "area=3.14*diameter\n",
    "print(\"area of circle=\",area)"
   ]
  },
  {
   "cell_type": "markdown",
   "id": "a329d188",
   "metadata": {},
   "source": [
    "# 7.Write a python program to input base and height of a triangle and find area of given area of the given triangle"
   ]
  },
  {
   "cell_type": "code",
   "execution_count": 18,
   "id": "f82a55bd",
   "metadata": {},
   "outputs": [
    {
     "name": "stdout",
     "output_type": "stream",
     "text": [
      "enter the base=3\n",
      "enter the hight=4\n",
      "area of triangle= 6.0\n"
     ]
    }
   ],
   "source": [
    "a=int(input(\"enter the base=\"))\n",
    "b=int(input(\"enter the hight=\"))\n",
    "c=1/2*a*b\n",
    "print(\"area of triangle=\",c)"
   ]
  },
  {
   "cell_type": "markdown",
   "id": "e890d1cc",
   "metadata": {},
   "source": [
    "# 8. Write a python program to input two angles from user and find third area of the third angle of the trianglt."
   ]
  },
  {
   "cell_type": "code",
   "execution_count": 19,
   "id": "854fc26a",
   "metadata": {},
   "outputs": [
    {
     "name": "stdout",
     "output_type": "stream",
     "text": [
      "enter the first angle=60\n",
      "enter the second angle=60\n",
      "the third angle is 60\n"
     ]
    }
   ],
   "source": [
    "a=int(input(\"enter the first angle=\"))\n",
    "b=int(input(\"enter the second angle=\"))\n",
    "c=180-(a+b)\n",
    "print(\"the third angle is\",c)"
   ]
  },
  {
   "cell_type": "markdown",
   "id": "b87b81b5",
   "metadata": {},
   "source": [
    "# 9. Write a python program to input length in centimeter and convert to meter and kilometer."
   ]
  },
  {
   "cell_type": "code",
   "execution_count": 20,
   "id": "ce2f8b06",
   "metadata": {},
   "outputs": [
    {
     "name": "stdout",
     "output_type": "stream",
     "text": [
      "enter the centimeter=1\n",
      "meter= 0.01\n",
      "kilometer= 1e-05\n"
     ]
    }
   ],
   "source": [
    "a=int(input(\"enter the centimeter=\"))\n",
    "b=a*0.01\n",
    "print(\"meter=\",b)\n",
    "b=a*0.00001\n",
    "print(\"kilometer=\",b)"
   ]
  },
  {
   "cell_type": "markdown",
   "id": "546a9d40",
   "metadata": {},
   "source": [
    "# 10.Write a phython program to input temperature in centimeter and convert to fahrenheit."
   ]
  },
  {
   "cell_type": "code",
   "execution_count": 21,
   "id": "97508cfa",
   "metadata": {},
   "outputs": [
    {
     "name": "stdout",
     "output_type": "stream",
     "text": [
      "enter the centigrade=34\n",
      "fahrenheit= 93.2\n"
     ]
    }
   ],
   "source": [
    "a=int(input(\"enter the centigrade=\"))\n",
    "b=a*(9/5)+32\n",
    "print(\"fahrenheit=\",b)"
   ]
  },
  {
   "cell_type": "markdown",
   "id": "2cb42c7f",
   "metadata": {},
   "source": [
    "# 11. Write a python program to input a year and check whether year is leap year or not (using if else)."
   ]
  },
  {
   "cell_type": "code",
   "execution_count": 28,
   "id": "7c232343",
   "metadata": {},
   "outputs": [
    {
     "name": "stdout",
     "output_type": "stream",
     "text": [
      "enter the year=2025\n",
      "it is not leap year\n"
     ]
    }
   ],
   "source": [
    "a=int(input(\"enter the year=\"))\n",
    "if(a%4==0):\n",
    "    print(\"it is a leap year\")\n",
    "else:\n",
    "    print(\"it is not leap year\")"
   ]
  },
  {
   "cell_type": "markdown",
   "id": "557f18ef",
   "metadata": {},
   "source": [
    "# 12. Write a python program to input to check whether a number is divisible by 5 and 11 or not(using if else),"
   ]
  },
  {
   "cell_type": "code",
   "execution_count": 31,
   "id": "ad7297e8",
   "metadata": {},
   "outputs": [
    {
     "name": "stdout",
     "output_type": "stream",
     "text": [
      "enter the number55\n",
      "it is divisible 5 and 11\n"
     ]
    }
   ],
   "source": [
    "a=int(input(\"enter the number\"))\n",
    "if(a%5==0 and a%11==0):\n",
    "    print(\"it is divisible 5 and 11\")\n",
    "else:\n",
    "    print(\"it is not divisible by 5 and 11\")"
   ]
  },
  {
   "cell_type": "markdown",
   "id": "695ea9e9",
   "metadata": {},
   "source": [
    "# 13.Write a python program to find maximum between two number using if else."
   ]
  },
  {
   "cell_type": "code",
   "execution_count": 33,
   "id": "66abea76",
   "metadata": {},
   "outputs": [
    {
     "name": "stdout",
     "output_type": "stream",
     "text": [
      "enter the number a=3\n",
      "enter the number b=4\n",
      "b is the maximum\n"
     ]
    }
   ],
   "source": [
    "a=int(input(\"enter the number a=\"))\n",
    "b=int(input(\"enter the number b=\"))\n",
    "if(a>b):\n",
    "    print(\"a is the maximum\")\n",
    "else:\n",
    "    print(\"b is the maximum\")"
   ]
  },
  {
   "cell_type": "markdown",
   "id": "9878cf96",
   "metadata": {},
   "source": [
    "# 14. Write a python program to find maximum between three number numbers uing nested if."
   ]
  },
  {
   "cell_type": "code",
   "execution_count": 49,
   "id": "2e4c9fd8",
   "metadata": {},
   "outputs": [
    {
     "name": "stdout",
     "output_type": "stream",
     "text": [
      "enter the number a=3\n",
      "enter the number b= 1\n",
      "enter tne number c=2\n",
      "a is a maximum\n"
     ]
    }
   ],
   "source": [
    "a=int(input(\"enter the number a=\"))\n",
    "b=int(input(\"enter the number b= \"))\n",
    "c=int(input(\"enter tne number c=\"))\n",
    "if(a>b or c>b):\n",
    "    if(a>c):\n",
    "        print(\"a is a maximum\")\n",
    "    else:\n",
    "        print(\"c is maximum\")\n",
    "else:\n",
    "    print(\"b is maximum\")"
   ]
  },
  {
   "cell_type": "code",
   "execution_count": null,
   "id": "2bc0b95f",
   "metadata": {},
   "outputs": [],
   "source": []
  },
  {
   "cell_type": "code",
   "execution_count": null,
   "id": "1a921f74",
   "metadata": {},
   "outputs": [],
   "source": []
  }
 ],
 "metadata": {
  "kernelspec": {
   "display_name": "Python 3 (ipykernel)",
   "language": "python",
   "name": "python3"
  },
  "language_info": {
   "codemirror_mode": {
    "name": "ipython",
    "version": 3
   },
   "file_extension": ".py",
   "mimetype": "text/x-python",
   "name": "python",
   "nbconvert_exporter": "python",
   "pygments_lexer": "ipython3",
   "version": "3.11.4"
  }
 },
 "nbformat": 4,
 "nbformat_minor": 5
}
